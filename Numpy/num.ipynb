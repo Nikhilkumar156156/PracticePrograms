{
 "cells": [
  {
   "cell_type": "code",
   "execution_count": null,
   "id": "df122c22",
   "metadata": {},
   "outputs": [
    {
     "name": "stdout",
     "output_type": "stream",
     "text": [
      "Array  [  2   3   5 323  54  56]\n",
      "Sorted  [  2   3   5  54  56 323]\n",
      "Reshaped  [[  2   3   5]\n",
      " [323  54  56]]\n"
     ]
    }
   ],
   "source": [
    "import numpy as np\n",
    "TheArray = np.array([2, 3, 5, 323, 54, 56])\n",
    "print(\"Array \", TheArray)\n",
    "\n",
    "sort = np.sort(TheArray)\n",
    "print(\"Sorted \", sort)\n",
    "\n",
    "Reshaped = np.reshape(TheArray, (2,3))\n",
    "print(\"Reshaped \", Reshaped)"
   ]
  },
  {
   "cell_type": "code",
   "execution_count": null,
   "id": "96c84040",
   "metadata": {},
   "outputs": [],
   "source": []
  }
 ],
 "metadata": {
  "kernelspec": {
   "display_name": "venv",
   "language": "python",
   "name": "python3"
  },
  "language_info": {
   "codemirror_mode": {
    "name": "ipython",
    "version": 3
   },
   "file_extension": ".py",
   "mimetype": "text/x-python",
   "name": "python",
   "nbconvert_exporter": "python",
   "pygments_lexer": "ipython3",
   "version": "3.13.3"
  }
 },
 "nbformat": 4,
 "nbformat_minor": 5
}
